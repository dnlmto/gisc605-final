{
  "nbformat": 4,
  "nbformat_minor": 0,
  "metadata": {
    "colab": {
      "provenance": []
    },
    "kernelspec": {
      "name": "python3",
      "display_name": "Python 3"
    },
    "language_info": {
      "name": "python"
    }
  },
  "cells": [
    {
      "cell_type": "code",
      "execution_count": 11,
      "metadata": {
        "colab": {
          "base_uri": "https://localhost:8080/"
        },
        "id": "8HIpkjs6IFsD",
        "outputId": "75e4551a-4ec8-4cf9-cc12-a82834df651e"
      },
      "outputs": [
        {
          "output_type": "stream",
          "name": "stdout",
          "text": [
            "Howdy Planet!\n"
          ]
        }
      ],
      "source": [
        "def howdy_planet():\n",
        "  return \"Howdy Planet!\"\n",
        "\n",
        "print(howdy_planet())"
      ]
    },
    {
      "cell_type": "code",
      "source": [
        "directions = [\"North\", \"South\", \"East\", \"West\"]\n",
        "\n",
        "for i in directions:\n",
        "  (\n",
        "    print(i)\n",
        "  )"
      ],
      "metadata": {
        "colab": {
          "base_uri": "https://localhost:8080/"
        },
        "id": "Vaql0OYlIHF0",
        "outputId": "170143f5-4bfd-49f8-ec46-ab382b89c1ba"
      },
      "execution_count": 15,
      "outputs": [
        {
          "output_type": "stream",
          "name": "stdout",
          "text": [
            "North\n",
            "South\n",
            "East\n",
            "West\n"
          ]
        }
      ]
    },
    {
      "cell_type": "code",
      "source": [],
      "metadata": {
        "id": "cseMmGiQQWkU"
      },
      "execution_count": null,
      "outputs": []
    }
  ]
}